{
 "cells": [
  {
   "cell_type": "code",
   "execution_count": 2,
   "id": "88ceea08-f430-44fd-87ab-039ba0c95183",
   "metadata": {},
   "outputs": [
    {
     "name": "stdout",
     "output_type": "stream",
     "text": [
      ":: loading settings :: url = jar:file:/home/ivanc/.local/lib/python3.9/site-packages/pyspark/jars/ivy-2.5.1.jar!/org/apache/ivy/core/settings/ivysettings.xml\n"
     ]
    },
    {
     "name": "stderr",
     "output_type": "stream",
     "text": [
      "Ivy Default Cache set to: /home/ivanc/.ivy2/cache\n",
      "The jars for the packages stored in: /home/ivanc/.ivy2/jars\n",
      "au.csiro.pathling#library-runtime added as a dependency\n",
      "io.delta#delta-spark_2.12 added as a dependency\n",
      "org.apache.hadoop#hadoop-aws added as a dependency\n",
      ":: resolving dependencies :: org.apache.spark#spark-submit-parent-3ec209ce-a0eb-4d64-82d3-5c9d53b0a97b;1.0\n",
      "\tconfs: [default]\n",
      "\tfound au.csiro.pathling#library-runtime;7.2.0 in central\n",
      "\tfound io.delta#delta-spark_2.12;3.3.0 in central\n",
      "\tfound io.delta#delta-storage;3.3.0 in central\n",
      "\tfound org.antlr#antlr4-runtime;4.9.3 in central\n",
      "\tfound org.apache.hadoop#hadoop-aws;3.3.4 in central\n",
      "\tfound com.amazonaws#aws-java-sdk-bundle;1.12.262 in central\n",
      "\tfound org.wildfly.openssl#wildfly-openssl;1.0.7.Final in central\n",
      ":: resolution report :: resolve 760ms :: artifacts dl 26ms\n",
      "\t:: modules in use:\n",
      "\tau.csiro.pathling#library-runtime;7.2.0 from central in [default]\n",
      "\tcom.amazonaws#aws-java-sdk-bundle;1.12.262 from central in [default]\n",
      "\tio.delta#delta-spark_2.12;3.3.0 from central in [default]\n",
      "\tio.delta#delta-storage;3.3.0 from central in [default]\n",
      "\torg.antlr#antlr4-runtime;4.9.3 from central in [default]\n",
      "\torg.apache.hadoop#hadoop-aws;3.3.4 from central in [default]\n",
      "\torg.wildfly.openssl#wildfly-openssl;1.0.7.Final from central in [default]\n",
      "\t---------------------------------------------------------------------\n",
      "\t|                  |            modules            ||   artifacts   |\n",
      "\t|       conf       | number| search|dwnlded|evicted|| number|dwnlded|\n",
      "\t---------------------------------------------------------------------\n",
      "\t|      default     |   7   |   0   |   0   |   0   ||   7   |   0   |\n",
      "\t---------------------------------------------------------------------\n",
      ":: retrieving :: org.apache.spark#spark-submit-parent-3ec209ce-a0eb-4d64-82d3-5c9d53b0a97b\n",
      "\tconfs: [default]\n",
      "\t0 artifacts copied, 7 already retrieved (0kB/18ms)\n",
      "25/05/02 16:39:53 WARN NativeCodeLoader: Unable to load native-hadoop library for your platform... using builtin-java classes where applicable\n",
      "Setting default log level to \"WARN\".\n",
      "To adjust logging level use sc.setLogLevel(newLevel). For SparkR, use setLogLevel(newLevel).\n",
      "25/05/02 16:39:55 WARN Utils: Service 'SparkUI' could not bind on port 4040. Attempting port 4041.\n",
      "25/05/02 16:40:12 WARN SimpleFunctionRegistry: The function date_diff replaced a previously registered function.\n"
     ]
    }
   ],
   "source": [
    "from pathling import PathlingContext, Expression as exp\n",
    "\n",
    "pc = PathlingContext.create()"
   ]
  },
  {
   "cell_type": "code",
   "execution_count": 3,
   "id": "3bad4af6-fdfb-49ac-823b-e434e23c31f1",
   "metadata": {},
   "outputs": [],
   "source": [
    "data = pc.read.bundles(\"data/fhir/bundles\",resource_types=[\"Patient\"])"
   ]
  },
  {
   "cell_type": "code",
   "execution_count": 4,
   "id": "4e7072cb-cec8-423b-b68f-0be074929b29",
   "metadata": {
    "scrolled": true
   },
   "outputs": [
    {
     "name": "stderr",
     "output_type": "stream",
     "text": [
      "                                                                                "
     ]
    },
    {
     "data": {
      "text/plain": [
       "Row(Given name='mcjustin+221010A@uw.edu', Family name='mcjustin+221010A@uw.edu', Phone number=None)"
      ]
     },
     "metadata": {},
     "output_type": "display_data"
    }
   ],
   "source": [
    "result = data.extract(\"Patient\",\n",
    "                      columns=[\n",
    "                          exp(\"name.first().given.first()\", \"Given name\"),\n",
    "                          exp(\"name.first().family\", \"Family name\"),\n",
    "                          exp(\"telecom.where(system = 'phone').value\",\n",
    "                              \"Phone number\"),\n",
    "                      ],\n",
    "                      )\n",
    "display(result.first())\n"
   ]
  },
  {
   "cell_type": "code",
   "execution_count": 6,
   "id": "99aa34bb-dfa6-4782-8936-6457171cd5d3",
   "metadata": {},
   "outputs": [],
   "source": [
    "result.write.csv(\"patients_csv\", header=True, mode=\"overwrite\")"
   ]
  },
  {
   "cell_type": "code",
   "execution_count": 9,
   "id": "ac3cd268-ccc2-42de-a222-c4f02bc65d0a",
   "metadata": {},
   "outputs": [
    {
     "name": "stdout",
     "output_type": "stream",
     "text": [
      "Given name,Family name,Phone number\n",
      "mcjustin+221010A@uw.edu,mcjustin+221010A@uw.edu,\n",
      "4e3ba1,e89b64b7,\n",
      "mcjustin+2023Paintracker@uw.edu,mcjustin+2023Paintracker@uw.edu,\n",
      "Padme,Amidfla,\n",
      "Validoverlap,Patient57,\n",
      "Elizabeth,Brown,\n",
      "mcjustin+2023Paintracker@uw.edu,mcjustin+2023Paintracker@uw.edu,\n",
      "d46f0e,471d0f5c123,\n",
      "4e3ba1939,e89b64b7939,\n"
     ]
    }
   ],
   "source": [
    "!cp patients_csv/part-*.csv patients.csv\n",
    "!head patients.csv"
   ]
  }
 ],
 "metadata": {
  "kernelspec": {
   "display_name": "Python 3 (ipykernel)",
   "language": "python",
   "name": "python3"
  },
  "language_info": {
   "codemirror_mode": {
    "name": "ipython",
    "version": 3
   },
   "file_extension": ".py",
   "mimetype": "text/x-python",
   "name": "python",
   "nbconvert_exporter": "python",
   "pygments_lexer": "ipython3",
   "version": "3.9.2"
  }
 },
 "nbformat": 4,
 "nbformat_minor": 5
}
