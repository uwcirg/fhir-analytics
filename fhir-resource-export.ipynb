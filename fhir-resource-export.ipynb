{
 "cells": [
  {
   "cell_type": "code",
   "execution_count": 53,
   "id": "88ceea08-f430-44fd-87ab-039ba0c95183",
   "metadata": {
    "scrolled": true
   },
   "outputs": [
    {
     "name": "stderr",
     "output_type": "stream",
     "text": [
      "25/05/19 13:57:44 WARN SimpleFunctionRegistry: The function display replaced a previously registered function.\n",
      "25/05/19 13:57:44 WARN SimpleFunctionRegistry: The function member_of replaced a previously registered function.\n",
      "25/05/19 13:57:44 WARN SimpleFunctionRegistry: The function subsumes replaced a previously registered function.\n",
      "25/05/19 13:57:44 WARN SimpleFunctionRegistry: The function designation replaced a previously registered function.\n",
      "25/05/19 13:57:44 WARN SimpleFunctionRegistry: The function property_string replaced a previously registered function.\n",
      "25/05/19 13:57:44 WARN SimpleFunctionRegistry: The function property_code replaced a previously registered function.\n",
      "25/05/19 13:57:44 WARN SimpleFunctionRegistry: The function property_integer replaced a previously registered function.\n",
      "25/05/19 13:57:44 WARN SimpleFunctionRegistry: The function property_boolean replaced a previously registered function.\n",
      "25/05/19 13:57:44 WARN SimpleFunctionRegistry: The function property_decimal replaced a previously registered function.\n",
      "25/05/19 13:57:44 WARN SimpleFunctionRegistry: The function property_datetime replaced a previously registered function.\n",
      "25/05/19 13:57:44 WARN SimpleFunctionRegistry: The function property_coding replaced a previously registered function.\n",
      "25/05/19 13:57:44 WARN SimpleFunctionRegistry: The function translate_coding replaced a previously registered function.\n",
      "25/05/19 13:57:44 WARN SimpleFunctionRegistry: The function date_add_duration replaced a previously registered function.\n",
      "25/05/19 13:57:44 WARN SimpleFunctionRegistry: The function date_subtract_duration replaced a previously registered function.\n",
      "25/05/19 13:57:44 WARN SimpleFunctionRegistry: The function time_eq replaced a previously registered function.\n",
      "25/05/19 13:57:44 WARN SimpleFunctionRegistry: The function time_gt replaced a previously registered function.\n",
      "25/05/19 13:57:44 WARN SimpleFunctionRegistry: The function time_gte replaced a previously registered function.\n",
      "25/05/19 13:57:44 WARN SimpleFunctionRegistry: The function time_lt replaced a previously registered function.\n",
      "25/05/19 13:57:44 WARN SimpleFunctionRegistry: The function time_lte replaced a previously registered function.\n",
      "25/05/19 13:57:44 WARN SimpleFunctionRegistry: The function datetime_add_duration replaced a previously registered function.\n",
      "25/05/19 13:57:44 WARN SimpleFunctionRegistry: The function datetime_subtract_duration replaced a previously registered function.\n",
      "25/05/19 13:57:44 WARN SimpleFunctionRegistry: The function datetime_eq replaced a previously registered function.\n",
      "25/05/19 13:57:44 WARN SimpleFunctionRegistry: The function datetime_gt replaced a previously registered function.\n",
      "25/05/19 13:57:44 WARN SimpleFunctionRegistry: The function datetime_gte replaced a previously registered function.\n",
      "25/05/19 13:57:44 WARN SimpleFunctionRegistry: The function datetime_lt replaced a previously registered function.\n",
      "25/05/19 13:57:44 WARN SimpleFunctionRegistry: The function datetime_lte replaced a previously registered function.\n",
      "25/05/19 13:57:44 WARN SimpleFunctionRegistry: The function coding_to_literal replaced a previously registered function.\n",
      "25/05/19 13:57:44 WARN SimpleFunctionRegistry: The function date_diff replaced a previously registered function.\n"
     ]
    }
   ],
   "source": [
    "from pathling import PathlingContext, Expression as exp\n",
    "\n",
    "pc = PathlingContext.create(enable_extensions=True)"
   ]
  },
  {
   "cell_type": "code",
   "execution_count": 54,
   "id": "73717b5c-4824-4b5b-80a8-56ed8059f39a",
   "metadata": {},
   "outputs": [],
   "source": [
    "data = pc.read.ndjson(\"data/fhir/cosri-demo\")"
   ]
  },
  {
   "cell_type": "code",
   "execution_count": 55,
   "id": "6492192f-7b01-4ceb-a4fa-6f4ef84f8d0b",
   "metadata": {},
   "outputs": [
    {
     "ename": "IllegalArgumentException",
     "evalue": "requirement failed: All input types must be the same except nullable, containsNull, valueContainsNull flags. The expression is: if (if (instanceof(gethapivalue(assertnotnull(input[0, org.hl7.fhir.r4.model.MedicationRequest, true]), ObjectType(interface org.hl7.fhir.instance.model.api.IBaseDatatype), hasMedication, getMedication), class org.hl7.fhir.r4.model.CodeableConcept)) isnull(objectcast(gethapivalue(assertnotnull(input[0, org.hl7.fhir.r4.model.MedicationRequest, true]), ObjectType(interface org.hl7.fhir.instance.model.api.IBaseDatatype), hasMedication, getMedication), ObjectType(class org.hl7.fhir.r4.model.CodeableConcept))) else true) null else named_struct(coding, mapobjects(lambdavariable(MapObject, ObjectType(class org.hl7.fhir.r4.model.Coding), true, 36629), if (isnull(lambdavariable(MapObject, ObjectType(class org.hl7.fhir.r4.model.Coding), true, 36629))) null else named_struct(id, staticinvoke(class org.apache.spark.unsafe.types.UTF8String, StringType, fromString, gethapivalue(lambdavariable(MapObject, ObjectType(class org.hl7.fhir.r4.model.Coding), true, 36629), ObjectType(class org.hl7.fhir.r4.model.StringType), hasIdElement, getIdElement).getValueAsString, true, true, true), system, staticinvoke(class org.apache.spark.unsafe.types.UTF8String, StringType, fromString, gethapivalue(lambdavariable(MapObject, ObjectType(class org.hl7.fhir.r4.model.Coding), true, 36629), ObjectType(class org.hl7.fhir.r4.model.UriType), hasSystemElement, getSystemElement).getValueAsString, true, true, true), version, staticinvoke(class org.apache.spark.unsafe.types.UTF8String, StringType, fromString, gethapivalue(lambdavariable(MapObject, ObjectType(class org.hl7.fhir.r4.model.Coding), true, 36629), ObjectType(class org.hl7.fhir.r4.model.StringType), hasVersionElement, getVersionElement).getValueAsString, true, true, true), code, staticinvoke(class org.apache.spark.unsafe.types.UTF8String, StringType, fromString, gethapivalue(lambdavariable(MapObject, ObjectType(class org.hl7.fhir.r4.model.Coding), true, 36629), ObjectType(class org.hl7.fhir.r4.model.CodeType), hasCodeElement, getCodeElement).getValueAsString, true, true, true), display, staticinvoke(class org.apache.spark.unsafe.types.UTF8String, StringType, fromString, gethapivalue(lambdavariable(MapObject, ObjectType(class org.hl7.fhir.r4.model.Coding), true, 36629), ObjectType(class org.hl7.fhir.r4.model.StringType), hasDisplayElement, getDisplayElement).getValueAsString, true, true, true), userSelected, gethapivalue(lambdavariable(MapObject, ObjectType(class org.hl7.fhir.r4.model.Coding), true, 36629), ObjectType(class org.hl7.fhir.r4.model.BooleanType), hasUserSelectedElement, getUserSelectedElement).getValue, _fid, staticinvoke(class java.lang.System, IntegerType, identityHashCode, lambdavariable(MapObject, ObjectType(class org.hl7.fhir.r4.model.Coding), true, 36629), true, true, true)), gethapivalue(if (instanceof(gethapivalue(assertnotnull(input[0, org.hl7.fhir.r4.model.MedicationRequest, true]), ObjectType(interface org.hl7.fhir.instance.model.api.IBaseDatatype), hasMedication, getMedication), class org.hl7.fhir.r4.model.CodeableConcept)) objectcast(gethapivalue(assertnotnull(input[0, org.hl7.fhir.r4.model.MedicationRequest, true]), ObjectType(interface org.hl7.fhir.instance.model.api.IBaseDatatype), hasMedication, getMedication), ObjectType(class org.hl7.fhir.r4.model.CodeableConcept)) else null, ObjectType(interface java.util.List), hasCoding, getCoding), None)). The input types found are\n\tStructType(StructField(id,StringType,true),StructField(coding,ArrayType(StructType(StructField(id,StringType,true),StructField(system,StringType,true),StructField(version,StringType,true),StructField(code,StringType,true),StructField(display,StringType,true),StructField(userSelected,BooleanType,true),StructField(_fid,IntegerType,true)),true),true),StructField(text,StringType,true),StructField(_fid,IntegerType,true))\n\tStructType(StructField(coding,ArrayType(StructType(StructField(id,StringType,true),StructField(system,StringType,true),StructField(version,StringType,true),StructField(code,StringType,true),StructField(display,StringType,true),StructField(userSelected,BooleanType,true),StructField(_fid,IntegerType,true)),true),true)).",
     "output_type": "error",
     "traceback": [
      "\u001b[0;31m---------------------------------------------------------------------------\u001b[0m",
      "\u001b[0;31mIllegalArgumentException\u001b[0m                  Traceback (most recent call last)",
      "Cell \u001b[0;32mIn[55], line 23\u001b[0m\n\u001b[1;32m      1\u001b[0m result \u001b[38;5;241m=\u001b[39m data\u001b[38;5;241m.\u001b[39mextract(\n\u001b[1;32m      2\u001b[0m     \u001b[38;5;124m\"\u001b[39m\u001b[38;5;124mMedicationRequest\u001b[39m\u001b[38;5;124m\"\u001b[39m,\n\u001b[1;32m      3\u001b[0m     columns\u001b[38;5;241m=\u001b[39m[\n\u001b[0;32m   (...)\u001b[0m\n\u001b[1;32m     21\u001b[0m     ],\n\u001b[1;32m     22\u001b[0m )\n\u001b[0;32m---> 23\u001b[0m display(\u001b[43mresult\u001b[49m\u001b[38;5;241;43m.\u001b[39;49m\u001b[43mfirst\u001b[49m\u001b[43m(\u001b[49m\u001b[43m)\u001b[49m)\n",
      "File \u001b[0;32m~/.local/lib/python3.9/site-packages/pyspark/sql/dataframe.py:2997\u001b[0m, in \u001b[0;36mDataFrame.first\u001b[0;34m(self)\u001b[0m\n\u001b[1;32m   2977\u001b[0m \u001b[38;5;28;01mdef\u001b[39;00m \u001b[38;5;21mfirst\u001b[39m(\u001b[38;5;28mself\u001b[39m) \u001b[38;5;241m-\u001b[39m\u001b[38;5;241m>\u001b[39m Optional[Row]:\n\u001b[1;32m   2978\u001b[0m     \u001b[38;5;124;03m\"\"\"Returns the first row as a :class:`Row`.\u001b[39;00m\n\u001b[1;32m   2979\u001b[0m \n\u001b[1;32m   2980\u001b[0m \u001b[38;5;124;03m    .. versionadded:: 1.3.0\u001b[39;00m\n\u001b[0;32m   (...)\u001b[0m\n\u001b[1;32m   2995\u001b[0m \u001b[38;5;124;03m    Row(age=2, name='Alice')\u001b[39;00m\n\u001b[1;32m   2996\u001b[0m \u001b[38;5;124;03m    \"\"\"\u001b[39;00m\n\u001b[0;32m-> 2997\u001b[0m     \u001b[38;5;28;01mreturn\u001b[39;00m \u001b[38;5;28;43mself\u001b[39;49m\u001b[38;5;241;43m.\u001b[39;49m\u001b[43mhead\u001b[49m\u001b[43m(\u001b[49m\u001b[43m)\u001b[49m\n",
      "File \u001b[0;32m~/.local/lib/python3.9/site-packages/pyspark/sql/dataframe.py:2973\u001b[0m, in \u001b[0;36mDataFrame.head\u001b[0;34m(self, n)\u001b[0m\n\u001b[1;32m   2941\u001b[0m \u001b[38;5;124;03m\"\"\"Returns the first ``n`` rows.\u001b[39;00m\n\u001b[1;32m   2942\u001b[0m \n\u001b[1;32m   2943\u001b[0m \u001b[38;5;124;03m.. versionadded:: 1.3.0\u001b[39;00m\n\u001b[0;32m   (...)\u001b[0m\n\u001b[1;32m   2970\u001b[0m \u001b[38;5;124;03m[Row(age=2, name='Alice')]\u001b[39;00m\n\u001b[1;32m   2971\u001b[0m \u001b[38;5;124;03m\"\"\"\u001b[39;00m\n\u001b[1;32m   2972\u001b[0m \u001b[38;5;28;01mif\u001b[39;00m n \u001b[38;5;129;01mis\u001b[39;00m \u001b[38;5;28;01mNone\u001b[39;00m:\n\u001b[0;32m-> 2973\u001b[0m     rs \u001b[38;5;241m=\u001b[39m \u001b[38;5;28;43mself\u001b[39;49m\u001b[38;5;241;43m.\u001b[39;49m\u001b[43mhead\u001b[49m\u001b[43m(\u001b[49m\u001b[38;5;241;43m1\u001b[39;49m\u001b[43m)\u001b[49m\n\u001b[1;32m   2974\u001b[0m     \u001b[38;5;28;01mreturn\u001b[39;00m rs[\u001b[38;5;241m0\u001b[39m] \u001b[38;5;28;01mif\u001b[39;00m rs \u001b[38;5;28;01melse\u001b[39;00m \u001b[38;5;28;01mNone\u001b[39;00m\n\u001b[1;32m   2975\u001b[0m \u001b[38;5;28;01mreturn\u001b[39;00m \u001b[38;5;28mself\u001b[39m\u001b[38;5;241m.\u001b[39mtake(n)\n",
      "File \u001b[0;32m~/.local/lib/python3.9/site-packages/pyspark/sql/dataframe.py:2975\u001b[0m, in \u001b[0;36mDataFrame.head\u001b[0;34m(self, n)\u001b[0m\n\u001b[1;32m   2973\u001b[0m     rs \u001b[38;5;241m=\u001b[39m \u001b[38;5;28mself\u001b[39m\u001b[38;5;241m.\u001b[39mhead(\u001b[38;5;241m1\u001b[39m)\n\u001b[1;32m   2974\u001b[0m     \u001b[38;5;28;01mreturn\u001b[39;00m rs[\u001b[38;5;241m0\u001b[39m] \u001b[38;5;28;01mif\u001b[39;00m rs \u001b[38;5;28;01melse\u001b[39;00m \u001b[38;5;28;01mNone\u001b[39;00m\n\u001b[0;32m-> 2975\u001b[0m \u001b[38;5;28;01mreturn\u001b[39;00m \u001b[38;5;28;43mself\u001b[39;49m\u001b[38;5;241;43m.\u001b[39;49m\u001b[43mtake\u001b[49m\u001b[43m(\u001b[49m\u001b[43mn\u001b[49m\u001b[43m)\u001b[49m\n",
      "File \u001b[0;32m~/.local/lib/python3.9/site-packages/pyspark/sql/dataframe.py:1407\u001b[0m, in \u001b[0;36mDataFrame.take\u001b[0;34m(self, num)\u001b[0m\n\u001b[1;32m   1378\u001b[0m \u001b[38;5;28;01mdef\u001b[39;00m \u001b[38;5;21mtake\u001b[39m(\u001b[38;5;28mself\u001b[39m, num: \u001b[38;5;28mint\u001b[39m) \u001b[38;5;241m-\u001b[39m\u001b[38;5;241m>\u001b[39m List[Row]:\n\u001b[1;32m   1379\u001b[0m     \u001b[38;5;124;03m\"\"\"Returns the first ``num`` rows as a :class:`list` of :class:`Row`.\u001b[39;00m\n\u001b[1;32m   1380\u001b[0m \n\u001b[1;32m   1381\u001b[0m \u001b[38;5;124;03m    .. versionadded:: 1.3.0\u001b[39;00m\n\u001b[0;32m   (...)\u001b[0m\n\u001b[1;32m   1405\u001b[0m \u001b[38;5;124;03m    [Row(age=14, name='Tom'), Row(age=23, name='Alice')]\u001b[39;00m\n\u001b[1;32m   1406\u001b[0m \u001b[38;5;124;03m    \"\"\"\u001b[39;00m\n\u001b[0;32m-> 1407\u001b[0m     \u001b[38;5;28;01mreturn\u001b[39;00m \u001b[38;5;28;43mself\u001b[39;49m\u001b[38;5;241;43m.\u001b[39;49m\u001b[43mlimit\u001b[49m\u001b[43m(\u001b[49m\u001b[43mnum\u001b[49m\u001b[43m)\u001b[49m\u001b[38;5;241;43m.\u001b[39;49m\u001b[43mcollect\u001b[49m\u001b[43m(\u001b[49m\u001b[43m)\u001b[49m\n",
      "File \u001b[0;32m~/.local/lib/python3.9/site-packages/pyspark/sql/dataframe.py:1263\u001b[0m, in \u001b[0;36mDataFrame.collect\u001b[0;34m(self)\u001b[0m\n\u001b[1;32m   1243\u001b[0m \u001b[38;5;124;03m\"\"\"Returns all the records as a list of :class:`Row`.\u001b[39;00m\n\u001b[1;32m   1244\u001b[0m \n\u001b[1;32m   1245\u001b[0m \u001b[38;5;124;03m.. versionadded:: 1.3.0\u001b[39;00m\n\u001b[0;32m   (...)\u001b[0m\n\u001b[1;32m   1260\u001b[0m \u001b[38;5;124;03m[Row(age=14, name='Tom'), Row(age=23, name='Alice'), Row(age=16, name='Bob')]\u001b[39;00m\n\u001b[1;32m   1261\u001b[0m \u001b[38;5;124;03m\"\"\"\u001b[39;00m\n\u001b[1;32m   1262\u001b[0m \u001b[38;5;28;01mwith\u001b[39;00m SCCallSiteSync(\u001b[38;5;28mself\u001b[39m\u001b[38;5;241m.\u001b[39m_sc):\n\u001b[0;32m-> 1263\u001b[0m     sock_info \u001b[38;5;241m=\u001b[39m \u001b[38;5;28;43mself\u001b[39;49m\u001b[38;5;241;43m.\u001b[39;49m\u001b[43m_jdf\u001b[49m\u001b[38;5;241;43m.\u001b[39;49m\u001b[43mcollectToPython\u001b[49m\u001b[43m(\u001b[49m\u001b[43m)\u001b[49m\n\u001b[1;32m   1264\u001b[0m \u001b[38;5;28;01mreturn\u001b[39;00m \u001b[38;5;28mlist\u001b[39m(_load_from_socket(sock_info, BatchedSerializer(CPickleSerializer())))\n",
      "File \u001b[0;32m~/.local/lib/python3.9/site-packages/py4j/java_gateway.py:1322\u001b[0m, in \u001b[0;36mJavaMember.__call__\u001b[0;34m(self, *args)\u001b[0m\n\u001b[1;32m   1316\u001b[0m command \u001b[38;5;241m=\u001b[39m proto\u001b[38;5;241m.\u001b[39mCALL_COMMAND_NAME \u001b[38;5;241m+\u001b[39m\\\n\u001b[1;32m   1317\u001b[0m     \u001b[38;5;28mself\u001b[39m\u001b[38;5;241m.\u001b[39mcommand_header \u001b[38;5;241m+\u001b[39m\\\n\u001b[1;32m   1318\u001b[0m     args_command \u001b[38;5;241m+\u001b[39m\\\n\u001b[1;32m   1319\u001b[0m     proto\u001b[38;5;241m.\u001b[39mEND_COMMAND_PART\n\u001b[1;32m   1321\u001b[0m answer \u001b[38;5;241m=\u001b[39m \u001b[38;5;28mself\u001b[39m\u001b[38;5;241m.\u001b[39mgateway_client\u001b[38;5;241m.\u001b[39msend_command(command)\n\u001b[0;32m-> 1322\u001b[0m return_value \u001b[38;5;241m=\u001b[39m \u001b[43mget_return_value\u001b[49m\u001b[43m(\u001b[49m\n\u001b[1;32m   1323\u001b[0m \u001b[43m    \u001b[49m\u001b[43manswer\u001b[49m\u001b[43m,\u001b[49m\u001b[43m \u001b[49m\u001b[38;5;28;43mself\u001b[39;49m\u001b[38;5;241;43m.\u001b[39;49m\u001b[43mgateway_client\u001b[49m\u001b[43m,\u001b[49m\u001b[43m \u001b[49m\u001b[38;5;28;43mself\u001b[39;49m\u001b[38;5;241;43m.\u001b[39;49m\u001b[43mtarget_id\u001b[49m\u001b[43m,\u001b[49m\u001b[43m \u001b[49m\u001b[38;5;28;43mself\u001b[39;49m\u001b[38;5;241;43m.\u001b[39;49m\u001b[43mname\u001b[49m\u001b[43m)\u001b[49m\n\u001b[1;32m   1325\u001b[0m \u001b[38;5;28;01mfor\u001b[39;00m temp_arg \u001b[38;5;129;01min\u001b[39;00m temp_args:\n\u001b[1;32m   1326\u001b[0m     \u001b[38;5;28;01mif\u001b[39;00m \u001b[38;5;28mhasattr\u001b[39m(temp_arg, \u001b[38;5;124m\"\u001b[39m\u001b[38;5;124m_detach\u001b[39m\u001b[38;5;124m\"\u001b[39m):\n",
      "File \u001b[0;32m~/.local/lib/python3.9/site-packages/pyspark/errors/exceptions/captured.py:185\u001b[0m, in \u001b[0;36mcapture_sql_exception.<locals>.deco\u001b[0;34m(*a, **kw)\u001b[0m\n\u001b[1;32m    181\u001b[0m converted \u001b[38;5;241m=\u001b[39m convert_exception(e\u001b[38;5;241m.\u001b[39mjava_exception)\n\u001b[1;32m    182\u001b[0m \u001b[38;5;28;01mif\u001b[39;00m \u001b[38;5;129;01mnot\u001b[39;00m \u001b[38;5;28misinstance\u001b[39m(converted, UnknownException):\n\u001b[1;32m    183\u001b[0m     \u001b[38;5;66;03m# Hide where the exception came from that shows a non-Pythonic\u001b[39;00m\n\u001b[1;32m    184\u001b[0m     \u001b[38;5;66;03m# JVM exception message.\u001b[39;00m\n\u001b[0;32m--> 185\u001b[0m     \u001b[38;5;28;01mraise\u001b[39;00m converted \u001b[38;5;28;01mfrom\u001b[39;00m \u001b[38;5;28mNone\u001b[39m\n\u001b[1;32m    186\u001b[0m \u001b[38;5;28;01melse\u001b[39;00m:\n\u001b[1;32m    187\u001b[0m     \u001b[38;5;28;01mraise\u001b[39;00m\n",
      "\u001b[0;31mIllegalArgumentException\u001b[0m: requirement failed: All input types must be the same except nullable, containsNull, valueContainsNull flags. The expression is: if (if (instanceof(gethapivalue(assertnotnull(input[0, org.hl7.fhir.r4.model.MedicationRequest, true]), ObjectType(interface org.hl7.fhir.instance.model.api.IBaseDatatype), hasMedication, getMedication), class org.hl7.fhir.r4.model.CodeableConcept)) isnull(objectcast(gethapivalue(assertnotnull(input[0, org.hl7.fhir.r4.model.MedicationRequest, true]), ObjectType(interface org.hl7.fhir.instance.model.api.IBaseDatatype), hasMedication, getMedication), ObjectType(class org.hl7.fhir.r4.model.CodeableConcept))) else true) null else named_struct(coding, mapobjects(lambdavariable(MapObject, ObjectType(class org.hl7.fhir.r4.model.Coding), true, 36629), if (isnull(lambdavariable(MapObject, ObjectType(class org.hl7.fhir.r4.model.Coding), true, 36629))) null else named_struct(id, staticinvoke(class org.apache.spark.unsafe.types.UTF8String, StringType, fromString, gethapivalue(lambdavariable(MapObject, ObjectType(class org.hl7.fhir.r4.model.Coding), true, 36629), ObjectType(class org.hl7.fhir.r4.model.StringType), hasIdElement, getIdElement).getValueAsString, true, true, true), system, staticinvoke(class org.apache.spark.unsafe.types.UTF8String, StringType, fromString, gethapivalue(lambdavariable(MapObject, ObjectType(class org.hl7.fhir.r4.model.Coding), true, 36629), ObjectType(class org.hl7.fhir.r4.model.UriType), hasSystemElement, getSystemElement).getValueAsString, true, true, true), version, staticinvoke(class org.apache.spark.unsafe.types.UTF8String, StringType, fromString, gethapivalue(lambdavariable(MapObject, ObjectType(class org.hl7.fhir.r4.model.Coding), true, 36629), ObjectType(class org.hl7.fhir.r4.model.StringType), hasVersionElement, getVersionElement).getValueAsString, true, true, true), code, staticinvoke(class org.apache.spark.unsafe.types.UTF8String, StringType, fromString, gethapivalue(lambdavariable(MapObject, ObjectType(class org.hl7.fhir.r4.model.Coding), true, 36629), ObjectType(class org.hl7.fhir.r4.model.CodeType), hasCodeElement, getCodeElement).getValueAsString, true, true, true), display, staticinvoke(class org.apache.spark.unsafe.types.UTF8String, StringType, fromString, gethapivalue(lambdavariable(MapObject, ObjectType(class org.hl7.fhir.r4.model.Coding), true, 36629), ObjectType(class org.hl7.fhir.r4.model.StringType), hasDisplayElement, getDisplayElement).getValueAsString, true, true, true), userSelected, gethapivalue(lambdavariable(MapObject, ObjectType(class org.hl7.fhir.r4.model.Coding), true, 36629), ObjectType(class org.hl7.fhir.r4.model.BooleanType), hasUserSelectedElement, getUserSelectedElement).getValue, _fid, staticinvoke(class java.lang.System, IntegerType, identityHashCode, lambdavariable(MapObject, ObjectType(class org.hl7.fhir.r4.model.Coding), true, 36629), true, true, true)), gethapivalue(if (instanceof(gethapivalue(assertnotnull(input[0, org.hl7.fhir.r4.model.MedicationRequest, true]), ObjectType(interface org.hl7.fhir.instance.model.api.IBaseDatatype), hasMedication, getMedication), class org.hl7.fhir.r4.model.CodeableConcept)) objectcast(gethapivalue(assertnotnull(input[0, org.hl7.fhir.r4.model.MedicationRequest, true]), ObjectType(interface org.hl7.fhir.instance.model.api.IBaseDatatype), hasMedication, getMedication), ObjectType(class org.hl7.fhir.r4.model.CodeableConcept)) else null, ObjectType(interface java.util.List), hasCoding, getCoding), None)). The input types found are\n\tStructType(StructField(id,StringType,true),StructField(coding,ArrayType(StructType(StructField(id,StringType,true),StructField(system,StringType,true),StructField(version,StringType,true),StructField(code,StringType,true),StructField(display,StringType,true),StructField(userSelected,BooleanType,true),StructField(_fid,IntegerType,true)),true),true),StructField(text,StringType,true),StructField(_fid,IntegerType,true))\n\tStructType(StructField(coding,ArrayType(StructType(StructField(id,StringType,true),StructField(system,StringType,true),StructField(version,StringType,true),StructField(code,StringType,true),StructField(display,StringType,true),StructField(userSelected,BooleanType,true),StructField(_fid,IntegerType,true)),true),true))."
     ]
    }
   ],
   "source": [
    "result = data.extract(\n",
    "    \"MedicationRequest\",\n",
    "    columns=[\n",
    "        exp(\"id\", \"id\"),\n",
    "        exp(\"subject.reference\", \"subject\"),\n",
    "        #exp(\"subject\", \"sub\"),\n",
    "        exp(\"authoredOn\", \"authoredOn\"),\n",
    "        exp(\"requester.display\", \"requester\"),\n",
    "        #exp(\"medicationReference.display\", \"Medication\"),\n",
    "        #exp(\"medication.resolve().code.coding.display\", \"Medication\"),\n",
    "        #exp(\"medicationCodeableConcept.coding.display\", \"Medication\")\n",
    "        #exp(\"medicationCodeableConcept.coding.display.first()\", \"medicationDisplay\")\n",
    "        #exp(\"medicationCodeableConcept.text\", \"Medication\")\n",
    "        #exp(\"medicationCodeableConcept.coding.first()\", \"display\"),        \n",
    "        #exp(\"medicationCodeableConcept.extension.first().url\", \"display\"), \n",
    "        #exp(\"medicationCodeableConcept.coding.text\", \"display\"),        \n",
    "        #exp(\"medication.concept.coding.first().text\", \"display\"),        \n",
    "        #exp(\"medicationCodeableConcept.coding.first().display\", \"display\"),        \n",
    "        #exp(\"medicationCodeableConcept.extension\", \"display\"), \n",
    "        exp(\"medicationCodeableConcept.coding.first().display\", \"display\"),        \n",
    "    ],\n",
    ")\n",
    "display(result.first())"
   ]
  },
  {
   "cell_type": "code",
   "execution_count": null,
   "id": "52da1281-1f49-4b17-8960-81c6c8967c0c",
   "metadata": {},
   "outputs": [],
   "source": [
    "result = data.extract(\n",
    "    \"Procedure\",\n",
    "    columns=[\n",
    "        exp(\"id\", \"id\"),\n",
    "        exp(\"subject.reference\", \"subject\"),\n",
    "        exp(\"status\", \"status\"),\n",
    "        exp(\"performedDateTime\", \"performedDateTime\"),\n",
    "        exp(\"code.coding.first().system\", \"code.system\"),\n",
    "        exp(\"code.coding.first().code\", \"code.code\"),\n",
    "        exp(\"code.coding.first().display\", \"code.display\"),\n",
    "    ],\n",
    ")\n",
    "#display(result.first())"
   ]
  },
  {
   "cell_type": "code",
   "execution_count": null,
   "id": "9e241247-8c23-4240-9db3-1d0875fdb943",
   "metadata": {},
   "outputs": [],
   "source": [
    "result.write.csv(\"csv_ouput/Procedure\", header=True, mode=\"overwrite\")"
   ]
  },
  {
   "cell_type": "code",
   "execution_count": null,
   "id": "d768b3e5-f404-4b4f-887f-cefff2b23b2d",
   "metadata": {},
   "outputs": [],
   "source": [
    "result = data.extract(\n",
    "    \"Encounter\",\n",
    "    columns=[\n",
    "        exp(\"id\", \"id\"),\n",
    "        exp(\"subject.reference\", \"subject\"),\n",
    "        exp(\"status\", \"status\"),\n",
    "        exp(\"type.coding.first().system\", \"type.system\"),\n",
    "        exp(\"type.coding.first().code\", \"type.code\"),\n",
    "        exp(\"type.coding.first().display\", \"type.display\"),\n",
    "    ],\n",
    ")"
   ]
  },
  {
   "cell_type": "code",
   "execution_count": null,
   "id": "ff77ac4a-ac36-4874-8f1f-f0a2edf24f88",
   "metadata": {},
   "outputs": [],
   "source": [
    "result.write.csv(\"csv_ouput/Encounter\", header=True, mode=\"overwrite\")"
   ]
  },
  {
   "cell_type": "raw",
   "id": "d7c8e7b7-0326-4801-8011-ee7fc20e5915",
   "metadata": {},
   "source": [
    "display(\"hi\")\n",
    "result = data.extract(\n",
    "    \"MedicationRequest\",\n",
    "    columns=[\n",
    "        exp(\"id\", \"id\"),\n",
    "        exp(\"subject.reference\", \"subject\"),\n",
    "        exp(\"authoredOn\", \"authoredOn\"),\n",
    "        #exp(\"requester.display\", \"requester\"),\n",
    "        #exp(\"medicationCodeableConcept.coding.first().system\", \"medication.system\"),\n",
    "        #exp(\"medicationCodeableConcept.coding.first().code\", \"medication.code\"),\n",
    "        #exp(\"medicationCodeableConcept.coding.first().display\", \"medication.display\"),\n",
    "        #exp(\"coding.text\", \"coding.text\"),\n",
    "        #exp(\"dosageInstruction.first().text\", \"dosageInstruction\"),\n",
    "        #exp(\"dispenseRequest.quantity.unit\", \"dispense.quantity.unit\"),\n",
    "        #exp(\"dispenseRequest.quantity.value\", \"dispense.quantity.value\"),\n",
    "        #exp(\"dispenseRequest.quantity.system\", \"dispense.quantity.system\"),\n",
    "        #exp(\"dispenseRequest.quantity.code\", \"dispense.quantity.code\"),\n",
    "    ],\n",
    ")\n",
    "display(\"there\")\n",
    "display(result.first())"
   ]
  }
 ],
 "metadata": {
  "kernelspec": {
   "display_name": "Python 3 (ipykernel)",
   "language": "python",
   "name": "python3"
  },
  "language_info": {
   "codemirror_mode": {
    "name": "ipython",
    "version": 3
   },
   "file_extension": ".py",
   "mimetype": "text/x-python",
   "name": "python",
   "nbconvert_exporter": "python",
   "pygments_lexer": "ipython3",
   "version": "3.9.2"
  }
 },
 "nbformat": 4,
 "nbformat_minor": 5
}
