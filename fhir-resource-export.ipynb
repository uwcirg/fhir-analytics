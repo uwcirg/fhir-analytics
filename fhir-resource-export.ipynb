{
 "cells": [
  {
   "cell_type": "code",
   "execution_count": 1,
   "id": "88ceea08-f430-44fd-87ab-039ba0c95183",
   "metadata": {
    "scrolled": true
   },
   "outputs": [
    {
     "name": "stdout",
     "output_type": "stream",
     "text": [
      ":: loading settings :: url = jar:file:/home/ivanc/.local/lib/python3.9/site-packages/pyspark/jars/ivy-2.5.1.jar!/org/apache/ivy/core/settings/ivysettings.xml\n"
     ]
    },
    {
     "name": "stderr",
     "output_type": "stream",
     "text": [
      "Ivy Default Cache set to: /home/ivanc/.ivy2/cache\n",
      "The jars for the packages stored in: /home/ivanc/.ivy2/jars\n",
      "au.csiro.pathling#library-runtime added as a dependency\n",
      "io.delta#delta-spark_2.12 added as a dependency\n",
      "org.apache.hadoop#hadoop-aws added as a dependency\n",
      ":: resolving dependencies :: org.apache.spark#spark-submit-parent-4cd9e64f-162e-4ecc-b361-5c15f3dc874e;1.0\n",
      "\tconfs: [default]\n",
      "\tfound au.csiro.pathling#library-runtime;7.2.0 in central\n",
      "\tfound io.delta#delta-spark_2.12;3.3.0 in central\n",
      "\tfound io.delta#delta-storage;3.3.0 in central\n",
      "\tfound org.antlr#antlr4-runtime;4.9.3 in central\n",
      "\tfound org.apache.hadoop#hadoop-aws;3.3.4 in central\n",
      "\tfound com.amazonaws#aws-java-sdk-bundle;1.12.262 in central\n",
      "\tfound org.wildfly.openssl#wildfly-openssl;1.0.7.Final in central\n",
      ":: resolution report :: resolve 725ms :: artifacts dl 20ms\n",
      "\t:: modules in use:\n",
      "\tau.csiro.pathling#library-runtime;7.2.0 from central in [default]\n",
      "\tcom.amazonaws#aws-java-sdk-bundle;1.12.262 from central in [default]\n",
      "\tio.delta#delta-spark_2.12;3.3.0 from central in [default]\n",
      "\tio.delta#delta-storage;3.3.0 from central in [default]\n",
      "\torg.antlr#antlr4-runtime;4.9.3 from central in [default]\n",
      "\torg.apache.hadoop#hadoop-aws;3.3.4 from central in [default]\n",
      "\torg.wildfly.openssl#wildfly-openssl;1.0.7.Final from central in [default]\n",
      "\t---------------------------------------------------------------------\n",
      "\t|                  |            modules            ||   artifacts   |\n",
      "\t|       conf       | number| search|dwnlded|evicted|| number|dwnlded|\n",
      "\t---------------------------------------------------------------------\n",
      "\t|      default     |   7   |   0   |   0   |   0   ||   7   |   0   |\n",
      "\t---------------------------------------------------------------------\n",
      ":: retrieving :: org.apache.spark#spark-submit-parent-4cd9e64f-162e-4ecc-b361-5c15f3dc874e\n",
      "\tconfs: [default]\n",
      "\t0 artifacts copied, 7 already retrieved (0kB/14ms)\n",
      "25/05/19 10:20:32 WARN NativeCodeLoader: Unable to load native-hadoop library for your platform... using builtin-java classes where applicable\n",
      "Setting default log level to \"WARN\".\n",
      "To adjust logging level use sc.setLogLevel(newLevel). For SparkR, use setLogLevel(newLevel).\n",
      "25/05/19 10:20:47 WARN SimpleFunctionRegistry: The function date_diff replaced a previously registered function.\n"
     ]
    }
   ],
   "source": [
    "from pathling import PathlingContext, Expression as exp\n",
    "\n",
    "pc = PathlingContext.create()"
   ]
  },
  {
   "cell_type": "code",
   "execution_count": 2,
   "id": "73717b5c-4824-4b5b-80a8-56ed8059f39a",
   "metadata": {},
   "outputs": [],
   "source": [
    "data = pc.read.ndjson(\"data/fhir/cosri-demo\")"
   ]
  },
  {
   "cell_type": "code",
   "execution_count": 3,
   "id": "52da1281-1f49-4b17-8960-81c6c8967c0c",
   "metadata": {},
   "outputs": [],
   "source": [
    "result = data.extract(\n",
    "    \"Procedure\",\n",
    "    columns=[\n",
    "        exp(\"id\", \"id\"),\n",
    "        exp(\"subject.reference\", \"subject\"),\n",
    "        exp(\"status\", \"status\"),\n",
    "        exp(\"performedDateTime\", \"performedDateTime\"),\n",
    "        exp(\"code.coding.first().system\", \"code.system\"),\n",
    "        exp(\"code.coding.first().code\", \"code.code\"),\n",
    "        exp(\"code.coding.first().display\", \"code.display\"),\n",
    "    ],\n",
    ")\n",
    "#display(result.first())"
   ]
  },
  {
   "cell_type": "code",
   "execution_count": 4,
   "id": "9e241247-8c23-4240-9db3-1d0875fdb943",
   "metadata": {},
   "outputs": [
    {
     "name": "stderr",
     "output_type": "stream",
     "text": [
      "25/05/19 10:21:08 WARN SparkStringUtils: Truncated the string representation of a plan since it was too large. This behavior can be adjusted by setting 'spark.sql.debug.maxToStringFields'.\n",
      "                                                                                "
     ]
    }
   ],
   "source": [
    "result.write.csv(\"csv_ouput/Procedure\", header=True, mode=\"overwrite\")"
   ]
  },
  {
   "cell_type": "code",
   "execution_count": 5,
   "id": "d768b3e5-f404-4b4f-887f-cefff2b23b2d",
   "metadata": {},
   "outputs": [],
   "source": [
    "result = data.extract(\n",
    "    \"Encounter\",\n",
    "    columns=[\n",
    "        exp(\"id\", \"id\"),\n",
    "        exp(\"subject.reference\", \"subject\"),\n",
    "        exp(\"status\", \"status\"),\n",
    "        exp(\"type.coding.first().system\", \"type.system\"),\n",
    "        exp(\"type.coding.first().code\", \"type.code\"),\n",
    "        exp(\"type.coding.first().display\", \"type.display\"),\n",
    "    ],\n",
    ")"
   ]
  },
  {
   "cell_type": "code",
   "execution_count": 6,
   "id": "ff77ac4a-ac36-4874-8f1f-f0a2edf24f88",
   "metadata": {},
   "outputs": [
    {
     "name": "stderr",
     "output_type": "stream",
     "text": [
      "                                                                                "
     ]
    }
   ],
   "source": [
    "result.write.csv(\"csv_ouput/Encounter\", header=True, mode=\"overwrite\")"
   ]
  },
  {
   "cell_type": "code",
   "execution_count": 7,
   "id": "6492192f-7b01-4ceb-a4fa-6f4ef84f8d0b",
   "metadata": {},
   "outputs": [
    {
     "ename": "Py4JJavaError",
     "evalue": "An error occurred while calling o99.execute.\n: au.csiro.pathling.errors.InvalidUserInputError: No such child: medication\n\tat au.csiro.pathling.utilities.Preconditions.checkUserInput(Preconditions.java:108)\n\tat au.csiro.pathling.fhirpath.operator.PathTraversalOperator.invoke(PathTraversalOperator.java:71)\n\tat au.csiro.pathling.fhirpath.parser.InvocationVisitor.visitMemberInvocation(InvocationVisitor.java:124)\n\tat au.csiro.pathling.fhirpath.parser.InvocationVisitor.visitMemberInvocation(InvocationVisitor.java:53)\n\tat au.csiro.pathling.fhirpath.parser.generated.FhirPathParser$MemberInvocationContext.accept(FhirPathParser.java:1361)\n\tat org.antlr.v4.runtime.tree.AbstractParseTreeVisitor.visit(AbstractParseTreeVisitor.java:18)\n\tat au.csiro.pathling.fhirpath.parser.TermVisitor.visitInvocationTerm(TermVisitor.java:51)\n\tat au.csiro.pathling.fhirpath.parser.TermVisitor.visitInvocationTerm(TermVisitor.java:39)\n\tat au.csiro.pathling.fhirpath.parser.generated.FhirPathParser$InvocationTermContext.accept(FhirPathParser.java:853)\n\tat au.csiro.pathling.fhirpath.parser.Visitor.visitTermExpression(Visitor.java:70)\n\tat au.csiro.pathling.fhirpath.parser.Visitor.visitTermExpression(Visitor.java:52)\n\tat au.csiro.pathling.fhirpath.parser.generated.FhirPathParser$TermExpressionContext.accept(FhirPathParser.java:426)\n\tat org.antlr.v4.runtime.tree.AbstractParseTreeVisitor.visit(AbstractParseTreeVisitor.java:18)\n\tat au.csiro.pathling.fhirpath.parser.Visitor.visitInvocationExpression(Visitor.java:82)\n\tat au.csiro.pathling.fhirpath.parser.Visitor.visitInvocationExpression(Visitor.java:52)\n\tat au.csiro.pathling.fhirpath.parser.generated.FhirPathParser$InvocationExpressionContext.accept(FhirPathParser.java:363)\n\tat org.antlr.v4.runtime.tree.AbstractParseTreeVisitor.visit(AbstractParseTreeVisitor.java:18)\n\tat au.csiro.pathling.fhirpath.parser.Parser.parse(Parser.java:69)\n\tat au.csiro.pathling.QueryExecutor.lambda$parseMaterializableExpressions$0(QueryExecutor.java:109)\n\tat java.base/java.util.stream.ReferencePipeline$3$1.accept(ReferencePipeline.java:197)\n\tat java.base/java.util.AbstractList$RandomAccessSpliterator.forEachRemaining(AbstractList.java:720)\n\tat java.base/java.util.stream.AbstractPipeline.copyInto(AbstractPipeline.java:509)\n\tat java.base/java.util.stream.AbstractPipeline.wrapAndCopyInto(AbstractPipeline.java:499)\n\tat java.base/java.util.stream.ReduceOps$ReduceOp.evaluateSequential(ReduceOps.java:921)\n\tat java.base/java.util.stream.AbstractPipeline.evaluate(AbstractPipeline.java:234)\n\tat java.base/java.util.stream.ReferencePipeline.collect(ReferencePipeline.java:682)\n\tat au.csiro.pathling.QueryExecutor.parseMaterializableExpressions(QueryExecutor.java:115)\n\tat au.csiro.pathling.extract.ExtractQueryExecutor.buildQuery(ExtractQueryExecutor.java:64)\n\tat au.csiro.pathling.library.query.QueryDispatcher.dispatch(QueryDispatcher.java:56)\n\tat au.csiro.pathling.library.query.ExtractQuery.execute(ExtractQuery.java:101)\n\tat java.base/jdk.internal.reflect.NativeMethodAccessorImpl.invoke0(Native Method)\n\tat java.base/jdk.internal.reflect.NativeMethodAccessorImpl.invoke(NativeMethodAccessorImpl.java:77)\n\tat java.base/jdk.internal.reflect.DelegatingMethodAccessorImpl.invoke(DelegatingMethodAccessorImpl.java:43)\n\tat java.base/java.lang.reflect.Method.invoke(Method.java:569)\n\tat py4j.reflection.MethodInvoker.invoke(MethodInvoker.java:244)\n\tat py4j.reflection.ReflectionEngine.invoke(ReflectionEngine.java:374)\n\tat py4j.Gateway.invoke(Gateway.java:282)\n\tat py4j.commands.AbstractCommand.invokeMethod(AbstractCommand.java:132)\n\tat py4j.commands.CallCommand.execute(CallCommand.java:79)\n\tat py4j.ClientServerConnection.waitForCommands(ClientServerConnection.java:182)\n\tat py4j.ClientServerConnection.run(ClientServerConnection.java:106)\n\tat java.base/java.lang.Thread.run(Thread.java:840)\n",
     "output_type": "error",
     "traceback": [
      "\u001b[0;31m---------------------------------------------------------------------------\u001b[0m",
      "\u001b[0;31mPy4JJavaError\u001b[0m                             Traceback (most recent call last)",
      "Cell \u001b[0;32mIn[7], line 1\u001b[0m\n\u001b[0;32m----> 1\u001b[0m result \u001b[38;5;241m=\u001b[39m \u001b[43mdata\u001b[49m\u001b[38;5;241;43m.\u001b[39;49m\u001b[43mextract\u001b[49m\u001b[43m(\u001b[49m\n\u001b[1;32m      2\u001b[0m \u001b[43m    \u001b[49m\u001b[38;5;124;43m\"\u001b[39;49m\u001b[38;5;124;43mMedicationRequest\u001b[39;49m\u001b[38;5;124;43m\"\u001b[39;49m\u001b[43m,\u001b[49m\n\u001b[1;32m      3\u001b[0m \u001b[43m    \u001b[49m\u001b[43mcolumns\u001b[49m\u001b[38;5;241;43m=\u001b[39;49m\u001b[43m[\u001b[49m\n\u001b[1;32m      4\u001b[0m \u001b[43m        \u001b[49m\u001b[43mexp\u001b[49m\u001b[43m(\u001b[49m\u001b[38;5;124;43m\"\u001b[39;49m\u001b[38;5;124;43mid\u001b[39;49m\u001b[38;5;124;43m\"\u001b[39;49m\u001b[43m,\u001b[49m\u001b[43m \u001b[49m\u001b[38;5;124;43m\"\u001b[39;49m\u001b[38;5;124;43mid\u001b[39;49m\u001b[38;5;124;43m\"\u001b[39;49m\u001b[43m)\u001b[49m\u001b[43m,\u001b[49m\n\u001b[1;32m      5\u001b[0m \u001b[43m        \u001b[49m\u001b[43mexp\u001b[49m\u001b[43m(\u001b[49m\u001b[38;5;124;43m\"\u001b[39;49m\u001b[38;5;124;43msubject.reference\u001b[39;49m\u001b[38;5;124;43m\"\u001b[39;49m\u001b[43m,\u001b[49m\u001b[43m \u001b[49m\u001b[38;5;124;43m\"\u001b[39;49m\u001b[38;5;124;43msubject\u001b[39;49m\u001b[38;5;124;43m\"\u001b[39;49m\u001b[43m)\u001b[49m\u001b[43m,\u001b[49m\n\u001b[1;32m      6\u001b[0m \u001b[43m        \u001b[49m\u001b[43mexp\u001b[49m\u001b[43m(\u001b[49m\u001b[38;5;124;43m\"\u001b[39;49m\u001b[38;5;124;43mauthoredOn\u001b[39;49m\u001b[38;5;124;43m\"\u001b[39;49m\u001b[43m,\u001b[49m\u001b[43m \u001b[49m\u001b[38;5;124;43m\"\u001b[39;49m\u001b[38;5;124;43mauthoredOn\u001b[39;49m\u001b[38;5;124;43m\"\u001b[39;49m\u001b[43m)\u001b[49m\u001b[43m,\u001b[49m\n\u001b[1;32m      7\u001b[0m \u001b[43m        \u001b[49m\u001b[43mexp\u001b[49m\u001b[43m(\u001b[49m\u001b[38;5;124;43m\"\u001b[39;49m\u001b[38;5;124;43mrequester.display\u001b[39;49m\u001b[38;5;124;43m\"\u001b[39;49m\u001b[43m,\u001b[49m\u001b[43m \u001b[49m\u001b[38;5;124;43m\"\u001b[39;49m\u001b[38;5;124;43mrequester\u001b[39;49m\u001b[38;5;124;43m\"\u001b[39;49m\u001b[43m)\u001b[49m\u001b[43m,\u001b[49m\n\u001b[1;32m      8\u001b[0m \u001b[43m        \u001b[49m\u001b[43mexp\u001b[49m\u001b[43m(\u001b[49m\u001b[38;5;124;43m\"\u001b[39;49m\u001b[38;5;124;43mmedication.text\u001b[39;49m\u001b[38;5;124;43m\"\u001b[39;49m\u001b[43m,\u001b[49m\u001b[43m \u001b[49m\u001b[38;5;124;43m\"\u001b[39;49m\u001b[38;5;124;43mMedication Text\u001b[39;49m\u001b[38;5;124;43m\"\u001b[39;49m\u001b[43m)\u001b[49m\n\u001b[1;32m      9\u001b[0m \u001b[43m    \u001b[49m\u001b[43m]\u001b[49m\u001b[43m,\u001b[49m\n\u001b[1;32m     10\u001b[0m \u001b[43m)\u001b[49m\n\u001b[1;32m     11\u001b[0m display(result\u001b[38;5;241m.\u001b[39mfirst())\n",
      "File \u001b[0;32m~/.local/lib/python3.9/site-packages/pathling/datasource.py:97\u001b[0m, in \u001b[0;36mDataSource.extract\u001b[0;34m(self, resource_type, columns, filters)\u001b[0m\n\u001b[1;32m     79\u001b[0m \u001b[38;5;124;03m\"\"\"\u001b[39;00m\n\u001b[1;32m     80\u001b[0m \u001b[38;5;124;03mRuns an extract query for the given resource type, using the specified columns and filters\u001b[39;00m\n\u001b[1;32m     81\u001b[0m \u001b[38;5;124;03mto create a tabular extract from FHIR data.\u001b[39;00m\n\u001b[0;32m   (...)\u001b[0m\n\u001b[1;32m     93\u001b[0m \u001b[38;5;124;03m:return: A Spark DataFrame containing the results of the extract query.\u001b[39;00m\n\u001b[1;32m     94\u001b[0m \u001b[38;5;124;03m\"\"\"\u001b[39;00m\n\u001b[1;32m     95\u001b[0m \u001b[38;5;28;01mfrom\u001b[39;00m \u001b[38;5;21;01mpathling\u001b[39;00m\u001b[38;5;21;01m.\u001b[39;00m\u001b[38;5;21;01mquery\u001b[39;00m \u001b[38;5;28;01mimport\u001b[39;00m ExtractQuery\n\u001b[0;32m---> 97\u001b[0m \u001b[38;5;28;01mreturn\u001b[39;00m \u001b[43mExtractQuery\u001b[49m\u001b[43m(\u001b[49m\u001b[43mresource_type\u001b[49m\u001b[43m,\u001b[49m\u001b[43m \u001b[49m\u001b[43mcolumns\u001b[49m\u001b[43m,\u001b[49m\u001b[43m \u001b[49m\u001b[43mfilters\u001b[49m\u001b[43m)\u001b[49m\u001b[38;5;241;43m.\u001b[39;49m\u001b[43mexecute\u001b[49m\u001b[43m(\u001b[49m\u001b[38;5;28;43mself\u001b[39;49m\u001b[43m)\u001b[49m\n",
      "File \u001b[0;32m~/.local/lib/python3.9/site-packages/pathling/query.py:87\u001b[0m, in \u001b[0;36mQueryWithFilters.execute\u001b[0;34m(self, data_source)\u001b[0m\n\u001b[1;32m     85\u001b[0m     \u001b[38;5;28;01mraise\u001b[39;00m \u001b[38;5;167;01mValueError\u001b[39;00m(\u001b[38;5;124m\"\u001b[39m\u001b[38;5;124mA data source is required to execute the query.\u001b[39m\u001b[38;5;124m\"\u001b[39m)\n\u001b[1;32m     86\u001b[0m jquery \u001b[38;5;241m=\u001b[39m \u001b[38;5;28mself\u001b[39m\u001b[38;5;241m.\u001b[39m_create_jquery(resolved_data_source)\n\u001b[0;32m---> 87\u001b[0m \u001b[38;5;28;01mreturn\u001b[39;00m resolved_data_source\u001b[38;5;241m.\u001b[39m_wrap_df(\u001b[43mjquery\u001b[49m\u001b[38;5;241;43m.\u001b[39;49m\u001b[43mexecute\u001b[49m\u001b[43m(\u001b[49m\u001b[43m)\u001b[49m)\n",
      "File \u001b[0;32m~/.local/lib/python3.9/site-packages/py4j/java_gateway.py:1322\u001b[0m, in \u001b[0;36mJavaMember.__call__\u001b[0;34m(self, *args)\u001b[0m\n\u001b[1;32m   1316\u001b[0m command \u001b[38;5;241m=\u001b[39m proto\u001b[38;5;241m.\u001b[39mCALL_COMMAND_NAME \u001b[38;5;241m+\u001b[39m\\\n\u001b[1;32m   1317\u001b[0m     \u001b[38;5;28mself\u001b[39m\u001b[38;5;241m.\u001b[39mcommand_header \u001b[38;5;241m+\u001b[39m\\\n\u001b[1;32m   1318\u001b[0m     args_command \u001b[38;5;241m+\u001b[39m\\\n\u001b[1;32m   1319\u001b[0m     proto\u001b[38;5;241m.\u001b[39mEND_COMMAND_PART\n\u001b[1;32m   1321\u001b[0m answer \u001b[38;5;241m=\u001b[39m \u001b[38;5;28mself\u001b[39m\u001b[38;5;241m.\u001b[39mgateway_client\u001b[38;5;241m.\u001b[39msend_command(command)\n\u001b[0;32m-> 1322\u001b[0m return_value \u001b[38;5;241m=\u001b[39m \u001b[43mget_return_value\u001b[49m\u001b[43m(\u001b[49m\n\u001b[1;32m   1323\u001b[0m \u001b[43m    \u001b[49m\u001b[43manswer\u001b[49m\u001b[43m,\u001b[49m\u001b[43m \u001b[49m\u001b[38;5;28;43mself\u001b[39;49m\u001b[38;5;241;43m.\u001b[39;49m\u001b[43mgateway_client\u001b[49m\u001b[43m,\u001b[49m\u001b[43m \u001b[49m\u001b[38;5;28;43mself\u001b[39;49m\u001b[38;5;241;43m.\u001b[39;49m\u001b[43mtarget_id\u001b[49m\u001b[43m,\u001b[49m\u001b[43m \u001b[49m\u001b[38;5;28;43mself\u001b[39;49m\u001b[38;5;241;43m.\u001b[39;49m\u001b[43mname\u001b[49m\u001b[43m)\u001b[49m\n\u001b[1;32m   1325\u001b[0m \u001b[38;5;28;01mfor\u001b[39;00m temp_arg \u001b[38;5;129;01min\u001b[39;00m temp_args:\n\u001b[1;32m   1326\u001b[0m     \u001b[38;5;28;01mif\u001b[39;00m \u001b[38;5;28mhasattr\u001b[39m(temp_arg, \u001b[38;5;124m\"\u001b[39m\u001b[38;5;124m_detach\u001b[39m\u001b[38;5;124m\"\u001b[39m):\n",
      "File \u001b[0;32m~/.local/lib/python3.9/site-packages/pyspark/errors/exceptions/captured.py:179\u001b[0m, in \u001b[0;36mcapture_sql_exception.<locals>.deco\u001b[0;34m(*a, **kw)\u001b[0m\n\u001b[1;32m    177\u001b[0m \u001b[38;5;28;01mdef\u001b[39;00m \u001b[38;5;21mdeco\u001b[39m(\u001b[38;5;241m*\u001b[39ma: Any, \u001b[38;5;241m*\u001b[39m\u001b[38;5;241m*\u001b[39mkw: Any) \u001b[38;5;241m-\u001b[39m\u001b[38;5;241m>\u001b[39m Any:\n\u001b[1;32m    178\u001b[0m     \u001b[38;5;28;01mtry\u001b[39;00m:\n\u001b[0;32m--> 179\u001b[0m         \u001b[38;5;28;01mreturn\u001b[39;00m \u001b[43mf\u001b[49m\u001b[43m(\u001b[49m\u001b[38;5;241;43m*\u001b[39;49m\u001b[43ma\u001b[49m\u001b[43m,\u001b[49m\u001b[43m \u001b[49m\u001b[38;5;241;43m*\u001b[39;49m\u001b[38;5;241;43m*\u001b[39;49m\u001b[43mkw\u001b[49m\u001b[43m)\u001b[49m\n\u001b[1;32m    180\u001b[0m     \u001b[38;5;28;01mexcept\u001b[39;00m Py4JJavaError \u001b[38;5;28;01mas\u001b[39;00m e:\n\u001b[1;32m    181\u001b[0m         converted \u001b[38;5;241m=\u001b[39m convert_exception(e\u001b[38;5;241m.\u001b[39mjava_exception)\n",
      "File \u001b[0;32m~/.local/lib/python3.9/site-packages/py4j/protocol.py:326\u001b[0m, in \u001b[0;36mget_return_value\u001b[0;34m(answer, gateway_client, target_id, name)\u001b[0m\n\u001b[1;32m    324\u001b[0m value \u001b[38;5;241m=\u001b[39m OUTPUT_CONVERTER[\u001b[38;5;28mtype\u001b[39m](answer[\u001b[38;5;241m2\u001b[39m:], gateway_client)\n\u001b[1;32m    325\u001b[0m \u001b[38;5;28;01mif\u001b[39;00m answer[\u001b[38;5;241m1\u001b[39m] \u001b[38;5;241m==\u001b[39m REFERENCE_TYPE:\n\u001b[0;32m--> 326\u001b[0m     \u001b[38;5;28;01mraise\u001b[39;00m Py4JJavaError(\n\u001b[1;32m    327\u001b[0m         \u001b[38;5;124m\"\u001b[39m\u001b[38;5;124mAn error occurred while calling \u001b[39m\u001b[38;5;132;01m{0}\u001b[39;00m\u001b[38;5;132;01m{1}\u001b[39;00m\u001b[38;5;132;01m{2}\u001b[39;00m\u001b[38;5;124m.\u001b[39m\u001b[38;5;130;01m\\n\u001b[39;00m\u001b[38;5;124m\"\u001b[39m\u001b[38;5;241m.\u001b[39m\n\u001b[1;32m    328\u001b[0m         \u001b[38;5;28mformat\u001b[39m(target_id, \u001b[38;5;124m\"\u001b[39m\u001b[38;5;124m.\u001b[39m\u001b[38;5;124m\"\u001b[39m, name), value)\n\u001b[1;32m    329\u001b[0m \u001b[38;5;28;01melse\u001b[39;00m:\n\u001b[1;32m    330\u001b[0m     \u001b[38;5;28;01mraise\u001b[39;00m Py4JError(\n\u001b[1;32m    331\u001b[0m         \u001b[38;5;124m\"\u001b[39m\u001b[38;5;124mAn error occurred while calling \u001b[39m\u001b[38;5;132;01m{0}\u001b[39;00m\u001b[38;5;132;01m{1}\u001b[39;00m\u001b[38;5;132;01m{2}\u001b[39;00m\u001b[38;5;124m. Trace:\u001b[39m\u001b[38;5;130;01m\\n\u001b[39;00m\u001b[38;5;132;01m{3}\u001b[39;00m\u001b[38;5;130;01m\\n\u001b[39;00m\u001b[38;5;124m\"\u001b[39m\u001b[38;5;241m.\u001b[39m\n\u001b[1;32m    332\u001b[0m         \u001b[38;5;28mformat\u001b[39m(target_id, \u001b[38;5;124m\"\u001b[39m\u001b[38;5;124m.\u001b[39m\u001b[38;5;124m\"\u001b[39m, name, value))\n",
      "\u001b[0;31mPy4JJavaError\u001b[0m: An error occurred while calling o99.execute.\n: au.csiro.pathling.errors.InvalidUserInputError: No such child: medication\n\tat au.csiro.pathling.utilities.Preconditions.checkUserInput(Preconditions.java:108)\n\tat au.csiro.pathling.fhirpath.operator.PathTraversalOperator.invoke(PathTraversalOperator.java:71)\n\tat au.csiro.pathling.fhirpath.parser.InvocationVisitor.visitMemberInvocation(InvocationVisitor.java:124)\n\tat au.csiro.pathling.fhirpath.parser.InvocationVisitor.visitMemberInvocation(InvocationVisitor.java:53)\n\tat au.csiro.pathling.fhirpath.parser.generated.FhirPathParser$MemberInvocationContext.accept(FhirPathParser.java:1361)\n\tat org.antlr.v4.runtime.tree.AbstractParseTreeVisitor.visit(AbstractParseTreeVisitor.java:18)\n\tat au.csiro.pathling.fhirpath.parser.TermVisitor.visitInvocationTerm(TermVisitor.java:51)\n\tat au.csiro.pathling.fhirpath.parser.TermVisitor.visitInvocationTerm(TermVisitor.java:39)\n\tat au.csiro.pathling.fhirpath.parser.generated.FhirPathParser$InvocationTermContext.accept(FhirPathParser.java:853)\n\tat au.csiro.pathling.fhirpath.parser.Visitor.visitTermExpression(Visitor.java:70)\n\tat au.csiro.pathling.fhirpath.parser.Visitor.visitTermExpression(Visitor.java:52)\n\tat au.csiro.pathling.fhirpath.parser.generated.FhirPathParser$TermExpressionContext.accept(FhirPathParser.java:426)\n\tat org.antlr.v4.runtime.tree.AbstractParseTreeVisitor.visit(AbstractParseTreeVisitor.java:18)\n\tat au.csiro.pathling.fhirpath.parser.Visitor.visitInvocationExpression(Visitor.java:82)\n\tat au.csiro.pathling.fhirpath.parser.Visitor.visitInvocationExpression(Visitor.java:52)\n\tat au.csiro.pathling.fhirpath.parser.generated.FhirPathParser$InvocationExpressionContext.accept(FhirPathParser.java:363)\n\tat org.antlr.v4.runtime.tree.AbstractParseTreeVisitor.visit(AbstractParseTreeVisitor.java:18)\n\tat au.csiro.pathling.fhirpath.parser.Parser.parse(Parser.java:69)\n\tat au.csiro.pathling.QueryExecutor.lambda$parseMaterializableExpressions$0(QueryExecutor.java:109)\n\tat java.base/java.util.stream.ReferencePipeline$3$1.accept(ReferencePipeline.java:197)\n\tat java.base/java.util.AbstractList$RandomAccessSpliterator.forEachRemaining(AbstractList.java:720)\n\tat java.base/java.util.stream.AbstractPipeline.copyInto(AbstractPipeline.java:509)\n\tat java.base/java.util.stream.AbstractPipeline.wrapAndCopyInto(AbstractPipeline.java:499)\n\tat java.base/java.util.stream.ReduceOps$ReduceOp.evaluateSequential(ReduceOps.java:921)\n\tat java.base/java.util.stream.AbstractPipeline.evaluate(AbstractPipeline.java:234)\n\tat java.base/java.util.stream.ReferencePipeline.collect(ReferencePipeline.java:682)\n\tat au.csiro.pathling.QueryExecutor.parseMaterializableExpressions(QueryExecutor.java:115)\n\tat au.csiro.pathling.extract.ExtractQueryExecutor.buildQuery(ExtractQueryExecutor.java:64)\n\tat au.csiro.pathling.library.query.QueryDispatcher.dispatch(QueryDispatcher.java:56)\n\tat au.csiro.pathling.library.query.ExtractQuery.execute(ExtractQuery.java:101)\n\tat java.base/jdk.internal.reflect.NativeMethodAccessorImpl.invoke0(Native Method)\n\tat java.base/jdk.internal.reflect.NativeMethodAccessorImpl.invoke(NativeMethodAccessorImpl.java:77)\n\tat java.base/jdk.internal.reflect.DelegatingMethodAccessorImpl.invoke(DelegatingMethodAccessorImpl.java:43)\n\tat java.base/java.lang.reflect.Method.invoke(Method.java:569)\n\tat py4j.reflection.MethodInvoker.invoke(MethodInvoker.java:244)\n\tat py4j.reflection.ReflectionEngine.invoke(ReflectionEngine.java:374)\n\tat py4j.Gateway.invoke(Gateway.java:282)\n\tat py4j.commands.AbstractCommand.invokeMethod(AbstractCommand.java:132)\n\tat py4j.commands.CallCommand.execute(CallCommand.java:79)\n\tat py4j.ClientServerConnection.waitForCommands(ClientServerConnection.java:182)\n\tat py4j.ClientServerConnection.run(ClientServerConnection.java:106)\n\tat java.base/java.lang.Thread.run(Thread.java:840)\n"
     ]
    }
   ],
   "source": [
    "result = data.extract(\n",
    "    \"MedicationRequest\",\n",
    "    columns=[\n",
    "        exp(\"id\", \"id\"),\n",
    "        exp(\"subject.reference\", \"subject\"),\n",
    "        exp(\"authoredOn\", \"authoredOn\"),\n",
    "        exp(\"requester.display\", \"requester\"),\n",
    "        exp(\"medication.text\", \"Medication Text\")\n",
    "    ],\n",
    ")\n",
    "display(result.first())"
   ]
  },
  {
   "cell_type": "raw",
   "id": "d7c8e7b7-0326-4801-8011-ee7fc20e5915",
   "metadata": {},
   "source": [
    "display(\"hi\")\n",
    "result = data.extract(\n",
    "    \"MedicationRequest\",\n",
    "    columns=[\n",
    "        exp(\"id\", \"id\"),\n",
    "        exp(\"subject.reference\", \"subject\"),\n",
    "        exp(\"authoredOn\", \"authoredOn\"),\n",
    "        #exp(\"requester.display\", \"requester\"),\n",
    "        #exp(\"medicationCodeableConcept.coding.first().system\", \"medication.system\"),\n",
    "        #exp(\"medicationCodeableConcept.coding.first().code\", \"medication.code\"),\n",
    "        #exp(\"medicationCodeableConcept.coding.first().display\", \"medication.display\"),\n",
    "        #exp(\"coding.text\", \"coding.text\"),\n",
    "        #exp(\"dosageInstruction.first().text\", \"dosageInstruction\"),\n",
    "        #exp(\"dispenseRequest.quantity.unit\", \"dispense.quantity.unit\"),\n",
    "        #exp(\"dispenseRequest.quantity.value\", \"dispense.quantity.value\"),\n",
    "        #exp(\"dispenseRequest.quantity.system\", \"dispense.quantity.system\"),\n",
    "        #exp(\"dispenseRequest.quantity.code\", \"dispense.quantity.code\"),\n",
    "    ],\n",
    ")\n",
    "display(\"there\")\n",
    "display(result.first())"
   ]
  }
 ],
 "metadata": {
  "kernelspec": {
   "display_name": "Python 3 (ipykernel)",
   "language": "python",
   "name": "python3"
  },
  "language_info": {
   "codemirror_mode": {
    "name": "ipython",
    "version": 3
   },
   "file_extension": ".py",
   "mimetype": "text/x-python",
   "name": "python",
   "nbconvert_exporter": "python",
   "pygments_lexer": "ipython3",
   "version": "3.9.2"
  }
 },
 "nbformat": 4,
 "nbformat_minor": 5
}
