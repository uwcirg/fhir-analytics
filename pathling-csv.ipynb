{
 "cells": [
  {
   "cell_type": "code",
   "execution_count": 1,
   "id": "88ceea08-f430-44fd-87ab-039ba0c95183",
   "metadata": {},
   "outputs": [
    {
     "name": "stdout",
     "output_type": "stream",
     "text": [
      ":: loading settings :: url = jar:file:/home/ivanc/.local/lib/python3.9/site-packages/pyspark/jars/ivy-2.5.1.jar!/org/apache/ivy/core/settings/ivysettings.xml\n"
     ]
    },
    {
     "name": "stderr",
     "output_type": "stream",
     "text": [
      "Ivy Default Cache set to: /home/ivanc/.ivy2/cache\n",
      "The jars for the packages stored in: /home/ivanc/.ivy2/jars\n",
      "au.csiro.pathling#library-runtime added as a dependency\n",
      "io.delta#delta-spark_2.12 added as a dependency\n",
      "org.apache.hadoop#hadoop-aws added as a dependency\n",
      ":: resolving dependencies :: org.apache.spark#spark-submit-parent-3829cb50-3fc3-4e9d-9aed-840aab0793aa;1.0\n",
      "\tconfs: [default]\n",
      "\tfound au.csiro.pathling#library-runtime;7.2.0 in central\n",
      "\tfound io.delta#delta-spark_2.12;3.3.0 in central\n",
      "\tfound io.delta#delta-storage;3.3.0 in central\n",
      "\tfound org.antlr#antlr4-runtime;4.9.3 in central\n",
      "\tfound org.apache.hadoop#hadoop-aws;3.3.4 in central\n",
      "\tfound com.amazonaws#aws-java-sdk-bundle;1.12.262 in central\n",
      "\tfound org.wildfly.openssl#wildfly-openssl;1.0.7.Final in central\n",
      ":: resolution report :: resolve 2401ms :: artifacts dl 24ms\n",
      "\t:: modules in use:\n",
      "\tau.csiro.pathling#library-runtime;7.2.0 from central in [default]\n",
      "\tcom.amazonaws#aws-java-sdk-bundle;1.12.262 from central in [default]\n",
      "\tio.delta#delta-spark_2.12;3.3.0 from central in [default]\n",
      "\tio.delta#delta-storage;3.3.0 from central in [default]\n",
      "\torg.antlr#antlr4-runtime;4.9.3 from central in [default]\n",
      "\torg.apache.hadoop#hadoop-aws;3.3.4 from central in [default]\n",
      "\torg.wildfly.openssl#wildfly-openssl;1.0.7.Final from central in [default]\n",
      "\t---------------------------------------------------------------------\n",
      "\t|                  |            modules            ||   artifacts   |\n",
      "\t|       conf       | number| search|dwnlded|evicted|| number|dwnlded|\n",
      "\t---------------------------------------------------------------------\n",
      "\t|      default     |   7   |   0   |   0   |   0   ||   7   |   0   |\n",
      "\t---------------------------------------------------------------------\n",
      ":: retrieving :: org.apache.spark#spark-submit-parent-3829cb50-3fc3-4e9d-9aed-840aab0793aa\n",
      "\tconfs: [default]\n",
      "\t0 artifacts copied, 7 already retrieved (0kB/15ms)\n",
      "25/05/12 14:59:13 WARN NativeCodeLoader: Unable to load native-hadoop library for your platform... using builtin-java classes where applicable\n",
      "Setting default log level to \"WARN\".\n",
      "To adjust logging level use sc.setLogLevel(newLevel). For SparkR, use setLogLevel(newLevel).\n",
      "25/05/12 15:00:51 WARN SimpleFunctionRegistry: The function date_diff replaced a previously registered function.\n"
     ]
    }
   ],
   "source": [
    "from pathling import PathlingContext, Expression as exp\n",
    "\n",
    "pc = PathlingContext.create()"
   ]
  },
  {
   "cell_type": "code",
   "execution_count": 2,
   "id": "3bad4af6-fdfb-49ac-823b-e434e23c31f1",
   "metadata": {},
   "outputs": [],
   "source": [
    "data = pc.read.ndjson(\"data/fhir/cosri-demo\")"
   ]
  },
  {
   "cell_type": "code",
   "execution_count": 3,
   "id": "4e7072cb-cec8-423b-b68f-0be074929b29",
   "metadata": {
    "scrolled": true
   },
   "outputs": [
    {
     "name": "stderr",
     "output_type": "stream",
     "text": [
      "                                                                                "
     ]
    },
    {
     "data": {
      "text/plain": [
       "Row(Given name='Marcus', Family name='Aurelius', Phone number=None)"
      ]
     },
     "metadata": {},
     "output_type": "display_data"
    }
   ],
   "source": [
    "result = data.extract(\"Patient\",\n",
    "                      columns=[\n",
    "                          exp(\"name.first().given.first()\", \"Given name\"),\n",
    "                          exp(\"name.first().family\", \"Family name\"),\n",
    "                          exp(\"telecom.where(system = 'phone').value\",\n",
    "                              \"Phone number\"),\n",
    "                      ],\n",
    "                      )\n",
    "display(result.first())\n"
   ]
  },
  {
   "cell_type": "code",
   "execution_count": 4,
   "id": "99aa34bb-dfa6-4782-8936-6457171cd5d3",
   "metadata": {},
   "outputs": [
    {
     "name": "stderr",
     "output_type": "stream",
     "text": [
      "                                                                                "
     ]
    }
   ],
   "source": [
    "result.write.csv(\"patients_csv\", header=True, mode=\"overwrite\")"
   ]
  },
  {
   "cell_type": "code",
   "execution_count": 5,
   "id": "ac3cd268-ccc2-42de-a222-c4f02bc65d0a",
   "metadata": {},
   "outputs": [
    {
     "name": "stdout",
     "output_type": "stream",
     "text": [
      "Given name,Family name,Phone number\n",
      "Marcus,Aurelius,\n",
      "John,Cushing,\n",
      "Harry,Osborn,\n",
      "Elizabeth,Browning,\n",
      "Charles,Dickens,\n"
     ]
    }
   ],
   "source": [
    "!cp patients_csv/part-*.csv patients.csv\n",
    "!head patients.csv"
   ]
  },
  {
   "cell_type": "code",
   "execution_count": 8,
   "id": "b678fa66-6074-46a5-9bb5-5fbf66f6d6c4",
   "metadata": {
    "scrolled": true
   },
   "outputs": [
    {
     "name": "stderr",
     "output_type": "stream",
     "text": [
      "25/05/12 15:09:40 WARN DAGScheduler: Broadcasting large task binary with size 2.4 MiB\n"
     ]
    },
    {
     "data": {
      "text/plain": [
       "Row(Questionnaire Reference='Questionnaire/CIRG-PHQ9', PHQ-9 Score=Decimal('6.000000'), Date Authored='2021-12-24T20:02:11Z', Patient Reference='Patient/bfe05aa4-e21b-4ec6-ac19-8855f5af6552')"
      ]
     },
     "metadata": {},
     "output_type": "display_data"
    }
   ],
   "source": [
    "result = data.extract(\"QuestionnaireResponse\",\n",
    "                      filters=[\n",
    "                          \"questionnaire = 'Questionnaire/CIRG-PHQ9'\"\n",
    "                      ],                      columns=[\n",
    "                          exp(\"questionnaire\", \"Questionnaire Reference\"),\n",
    "                          exp(\"item.where(linkId = '44261-6').answer.valueDecimal.first()\", \"PHQ-9 Score\"),\n",
    "                          exp(\"authored\", \"Date Authored\"),\n",
    "                          exp(\"subject.reference\", \"Patient Reference\")\n",
    "                      ])\n",
    "display(result.first())\n"
   ]
  }
 ],
 "metadata": {
  "kernelspec": {
   "display_name": "Python 3 (ipykernel)",
   "language": "python",
   "name": "python3"
  },
  "language_info": {
   "codemirror_mode": {
    "name": "ipython",
    "version": 3
   },
   "file_extension": ".py",
   "mimetype": "text/x-python",
   "name": "python",
   "nbconvert_exporter": "python",
   "pygments_lexer": "ipython3",
   "version": "3.9.2"
  }
 },
 "nbformat": 4,
 "nbformat_minor": 5
}
